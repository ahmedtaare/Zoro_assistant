{
 "cells": [
  {
   "cell_type": "code",
   "execution_count": 96,
   "metadata": {},
   "outputs": [],
   "source": [
    "import matplotlib\n",
    "import numpy as np\n",
    "import pandas as pd\n",
    "import seaborn as sns\n",
    "from sklearn.naive_bayes import GaussianNB\n",
    "from matplotlib import pyplot as plt\n",
    "import nltk\n",
    "from nltk.stem import PorterStemmer\n",
    "from sklearn.model_selection import train_test_split\n",
    "from nltk.tokenize import sent_tokenize\n",
    "from sklearn.feature_extraction.text import CountVectorizer\n",
    "from sklearn.metrics import confusion_matrix\n",
    "from sklearn.metrics import accuracy_score\n",
    "\n",
    "from sklearn.feature_extraction.text import TfidfVectorizer\n",
    "\n",
    "import cv2"
   ]
  },
  {
   "cell_type": "code",
   "execution_count": 79,
   "metadata": {},
   "outputs": [
    {
     "data": {
      "text/plain": [
       "0                              Wow... Loved this place.\n",
       "1                                    Crust is not good.\n",
       "2             Not tasty and the texture was just nasty.\n",
       "3     Stopped by during the late May bank holiday of...\n",
       "4     The selection on the menu was great and so wer...\n",
       "5        Now I am getting angry and I want my damn pho.\n",
       "6                 Honeslty it didn't taste THAT fresh.)\n",
       "7     The potatoes were like rubber and you could te...\n",
       "8                             The fries were great too.\n",
       "9                                        A great touch.\n",
       "10                             Service was very prompt.\n",
       "11                                   Would not go back.\n",
       "12    The cashier had no care what so ever on what I...\n",
       "13    I tried the Cape Cod ravoli, chicken, with cra...\n",
       "14    I was disgusted because I was pretty sure that...\n",
       "15    I was shocked because no signs indicate cash o...\n",
       "16                                  Highly recommended.\n",
       "17               Waitress was a little slow in service.\n",
       "18    This place is not worth your time, let alone V...\n",
       "19                                 did not like at all.\n",
       "Name: Review, dtype: object"
      ]
     },
     "execution_count": 79,
     "metadata": {},
     "output_type": "execute_result"
    }
   ],
   "source": [
    "dataframe1=pd.read_csv('D:/JOU/NLP/Dataset.csv')\n",
    "d=dataframe1['Review']\n",
    "d\n",
    "z=d[:20]\n",
    "z\n"
   ]
  },
  {
   "cell_type": "code",
   "execution_count": 83,
   "metadata": {},
   "outputs": [
    {
     "data": {
      "text/html": [
       "<div>\n",
       "<style scoped>\n",
       "    .dataframe tbody tr th:only-of-type {\n",
       "        vertical-align: middle;\n",
       "    }\n",
       "\n",
       "    .dataframe tbody tr th {\n",
       "        vertical-align: top;\n",
       "    }\n",
       "\n",
       "    .dataframe thead th {\n",
       "        text-align: right;\n",
       "    }\n",
       "</style>\n",
       "<table border=\"1\" class=\"dataframe\">\n",
       "  <thead>\n",
       "    <tr style=\"text-align: right;\">\n",
       "      <th></th>\n",
       "      <th>Review</th>\n",
       "      <th>Liked</th>\n",
       "    </tr>\n",
       "  </thead>\n",
       "  <tbody>\n",
       "    <tr>\n",
       "      <th>0</th>\n",
       "      <td>Wow... Loved this place.</td>\n",
       "      <td>1</td>\n",
       "    </tr>\n",
       "    <tr>\n",
       "      <th>1</th>\n",
       "      <td>Crust is not good.</td>\n",
       "      <td>0</td>\n",
       "    </tr>\n",
       "    <tr>\n",
       "      <th>2</th>\n",
       "      <td>Not tasty and the texture was just nasty.</td>\n",
       "      <td>0</td>\n",
       "    </tr>\n",
       "    <tr>\n",
       "      <th>3</th>\n",
       "      <td>Stopped by during the late May bank holiday of...</td>\n",
       "      <td>1</td>\n",
       "    </tr>\n",
       "    <tr>\n",
       "      <th>4</th>\n",
       "      <td>The selection on the menu was great and so wer...</td>\n",
       "      <td>1</td>\n",
       "    </tr>\n",
       "    <tr>\n",
       "      <th>5</th>\n",
       "      <td>Now I am getting angry and I want my damn pho.</td>\n",
       "      <td>0</td>\n",
       "    </tr>\n",
       "    <tr>\n",
       "      <th>6</th>\n",
       "      <td>Honeslty it didn't taste THAT fresh.)</td>\n",
       "      <td>0</td>\n",
       "    </tr>\n",
       "    <tr>\n",
       "      <th>7</th>\n",
       "      <td>The potatoes were like rubber and you could te...</td>\n",
       "      <td>0</td>\n",
       "    </tr>\n",
       "    <tr>\n",
       "      <th>8</th>\n",
       "      <td>The fries were great too.</td>\n",
       "      <td>1</td>\n",
       "    </tr>\n",
       "    <tr>\n",
       "      <th>9</th>\n",
       "      <td>A great touch.</td>\n",
       "      <td>1</td>\n",
       "    </tr>\n",
       "    <tr>\n",
       "      <th>10</th>\n",
       "      <td>Service was very prompt.</td>\n",
       "      <td>1</td>\n",
       "    </tr>\n",
       "    <tr>\n",
       "      <th>11</th>\n",
       "      <td>Would not go back.</td>\n",
       "      <td>0</td>\n",
       "    </tr>\n",
       "    <tr>\n",
       "      <th>12</th>\n",
       "      <td>The cashier had no care what so ever on what I...</td>\n",
       "      <td>0</td>\n",
       "    </tr>\n",
       "    <tr>\n",
       "      <th>13</th>\n",
       "      <td>I tried the Cape Cod ravoli, chicken, with cra...</td>\n",
       "      <td>1</td>\n",
       "    </tr>\n",
       "    <tr>\n",
       "      <th>14</th>\n",
       "      <td>I was disgusted because I was pretty sure that...</td>\n",
       "      <td>0</td>\n",
       "    </tr>\n",
       "    <tr>\n",
       "      <th>15</th>\n",
       "      <td>I was shocked because no signs indicate cash o...</td>\n",
       "      <td>0</td>\n",
       "    </tr>\n",
       "    <tr>\n",
       "      <th>16</th>\n",
       "      <td>Highly recommended.</td>\n",
       "      <td>1</td>\n",
       "    </tr>\n",
       "    <tr>\n",
       "      <th>17</th>\n",
       "      <td>Waitress was a little slow in service.</td>\n",
       "      <td>0</td>\n",
       "    </tr>\n",
       "    <tr>\n",
       "      <th>18</th>\n",
       "      <td>This place is not worth your time, let alone V...</td>\n",
       "      <td>0</td>\n",
       "    </tr>\n",
       "    <tr>\n",
       "      <th>19</th>\n",
       "      <td>did not like at all.</td>\n",
       "      <td>0</td>\n",
       "    </tr>\n",
       "  </tbody>\n",
       "</table>\n",
       "</div>"
      ],
      "text/plain": [
       "                                               Review  Liked\n",
       "0                            Wow... Loved this place.      1\n",
       "1                                  Crust is not good.      0\n",
       "2           Not tasty and the texture was just nasty.      0\n",
       "3   Stopped by during the late May bank holiday of...      1\n",
       "4   The selection on the menu was great and so wer...      1\n",
       "5      Now I am getting angry and I want my damn pho.      0\n",
       "6               Honeslty it didn't taste THAT fresh.)      0\n",
       "7   The potatoes were like rubber and you could te...      0\n",
       "8                           The fries were great too.      1\n",
       "9                                      A great touch.      1\n",
       "10                           Service was very prompt.      1\n",
       "11                                 Would not go back.      0\n",
       "12  The cashier had no care what so ever on what I...      0\n",
       "13  I tried the Cape Cod ravoli, chicken, with cra...      1\n",
       "14  I was disgusted because I was pretty sure that...      0\n",
       "15  I was shocked because no signs indicate cash o...      0\n",
       "16                                Highly recommended.      1\n",
       "17             Waitress was a little slow in service.      0\n",
       "18  This place is not worth your time, let alone V...      0\n",
       "19                               did not like at all.      0"
      ]
     },
     "execution_count": 83,
     "metadata": {},
     "output_type": "execute_result"
    }
   ],
   "source": [
    "dataframe1.head(20)"
   ]
  },
  {
   "cell_type": "code",
   "execution_count": 57,
   "metadata": {},
   "outputs": [
    {
     "name": "stderr",
     "output_type": "stream",
     "text": [
      "[nltk_data] Downloading package punkt to\n",
      "[nltk_data]     C:\\Users\\yossi\\AppData\\Roaming\\nltk_data...\n",
      "[nltk_data]   Package punkt is already up-to-date!\n"
     ]
    },
    {
     "data": {
      "text/plain": [
       "True"
      ]
     },
     "execution_count": 57,
     "metadata": {},
     "output_type": "execute_result"
    }
   ],
   "source": [
    "text=[]\n",
    "for i in z:\n",
    "    text.append(i)\n",
    "nltk.download(\"punkt\")   \n"
   ]
  },
  {
   "cell_type": "code",
   "execution_count": 59,
   "metadata": {},
   "outputs": [
    {
     "name": "stdout",
     "output_type": "stream",
     "text": [
      "wow... loved this place.\n",
      "crust is not good.\n",
      "not tasty and the texture was just nasty.\n",
      "stopped by during the late may bank holiday off rick steve recommendation and loved it.\n",
      "the selection on the menu was great and so were the prices.\n",
      "now i am getting angry and i want my damn pho.\n",
      "honeslty it didn't taste that fresh.)\n",
      "the potatoes were like rubber and you could tell they had been made up ahead of time being kept under a warmer.\n",
      "the fries were great too.\n",
      "a great touch.\n",
      "service was very prompt.\n",
      "would not go back.\n",
      "the cashier had no care what so ever on what i had to say it still ended up being wayyy overpriced.\n",
      "i tried the cape cod ravoli, chicken, with cranberry...mmmm!\n",
      "i was disgusted because i was pretty sure that was human hair.\n",
      "i was shocked because no signs indicate cash only.\n",
      "highly recommended.\n",
      "waitress was a little slow in service.\n",
      "this place is not worth your time, let alone vegas.\n",
      "did not like at all.\n"
     ]
    }
   ],
   "source": [
    "\n",
    "\n",
    "\n",
    "# sen=sent_tokenize(text)\n",
    "\n",
    "ps = PorterStemmer() \n",
    "# print('__________________________________________')\n",
    "for w in z:\n",
    "    rootWord=ps.stem(w)\n",
    "    print(rootWord)"
   ]
  },
  {
   "cell_type": "code",
   "execution_count": 64,
   "metadata": {},
   "outputs": [
    {
     "name": "stdout",
     "output_type": "stream",
     "text": [
      "['Wow... Loved this place.', 'Crust is not good.', 'Not tasty and the texture was just nasty.', 'Stopped by during the late May bank holiday off Rick Steve recommendation and loved it.', 'The selection on the menu was great and so were the prices.', 'Now I am getting angry and I want my damn pho.', \"Honeslty it didn't taste THAT fresh.)\", 'The potatoes were like rubber and you could tell they had been made up ahead of time being kept under a warmer.', 'The fries were great too.', 'A great touch.', 'Service was very prompt.', 'Would not go back.', 'The cashier had no care what so ever on what I had to say it still ended up being wayyy overpriced.', 'I tried the Cape Cod ravoli, chicken, with cranberry...mmmm!', 'I was disgusted because I was pretty sure that was human hair.', 'I was shocked because no signs indicate cash only.', 'Highly recommended.', 'Waitress was a little slow in service.', 'This place is not worth your time, let alone Vegas.', 'did not like at all.']\n",
      "__________________________________________________\n",
      "    ahead  all  alone  am  and  angry  at  back  bank  because  ...  was  \\\n",
      "0       0    0      0   0    0      0   0     0     0        0  ...    0   \n",
      "1       0    0      0   0    0      0   0     0     0        0  ...    0   \n",
      "2       0    0      0   0    1      0   0     0     0        0  ...    1   \n",
      "3       0    0      0   0    1      0   0     0     1        0  ...    0   \n",
      "4       0    0      0   0    1      0   0     0     0        0  ...    1   \n",
      "5       0    0      0   1    1      1   0     0     0        0  ...    0   \n",
      "6       0    0      0   0    0      0   0     0     0        0  ...    0   \n",
      "7       1    0      0   0    1      0   0     0     0        0  ...    0   \n",
      "8       0    0      0   0    0      0   0     0     0        0  ...    0   \n",
      "9       0    0      0   0    0      0   0     0     0        0  ...    0   \n",
      "10      0    0      0   0    0      0   0     0     0        0  ...    1   \n",
      "11      0    0      0   0    0      0   0     1     0        0  ...    0   \n",
      "12      0    0      0   0    0      0   0     0     0        0  ...    0   \n",
      "13      0    0      0   0    0      0   0     0     0        0  ...    0   \n",
      "14      0    0      0   0    0      0   0     0     0        1  ...    3   \n",
      "15      0    0      0   0    0      0   0     0     0        1  ...    1   \n",
      "16      0    0      0   0    0      0   0     0     0        0  ...    0   \n",
      "17      0    0      0   0    0      0   0     0     0        0  ...    1   \n",
      "18      0    0      1   0    0      0   0     0     0        0  ...    0   \n",
      "19      0    1      0   0    0      0   1     0     0        0  ...    0   \n",
      "\n",
      "    wayyy  were  what  with  worth  would  wow  you  your  \n",
      "0       0     0     0     0      0      0    1    0     0  \n",
      "1       0     0     0     0      0      0    0    0     0  \n",
      "2       0     0     0     0      0      0    0    0     0  \n",
      "3       0     0     0     0      0      0    0    0     0  \n",
      "4       0     1     0     0      0      0    0    0     0  \n",
      "5       0     0     0     0      0      0    0    0     0  \n",
      "6       0     0     0     0      0      0    0    0     0  \n",
      "7       0     1     0     0      0      0    0    1     0  \n",
      "8       0     1     0     0      0      0    0    0     0  \n",
      "9       0     0     0     0      0      0    0    0     0  \n",
      "10      0     0     0     0      0      0    0    0     0  \n",
      "11      0     0     0     0      0      1    0    0     0  \n",
      "12      1     0     2     0      0      0    0    0     0  \n",
      "13      0     0     0     1      0      0    0    0     0  \n",
      "14      0     0     0     0      0      0    0    0     0  \n",
      "15      0     0     0     0      0      0    0    0     0  \n",
      "16      0     0     0     0      0      0    0    0     0  \n",
      "17      0     0     0     0      0      0    0    0     0  \n",
      "18      0     0     0     0      1      0    0    0     1  \n",
      "19      0     0     0     0      0      0    0    0     0  \n",
      "\n",
      "[20 rows x 118 columns]\n"
     ]
    }
   ],
   "source": [
    "\n",
    "vectorizer=CountVectorizer()\n",
    "vectorizer.fit(text)\n",
    "features=vectorizer.transform(text)\n",
    "df=pd.DataFrame(features.toarray(),columns=vectorizer.get_feature_names_out())\n",
    "print(text)\n",
    "print(50*'_')\n",
    "print(df)\n",
    "\n"
   ]
  },
  {
   "cell_type": "code",
   "execution_count": 70,
   "metadata": {},
   "outputs": [
    {
     "name": "stdout",
     "output_type": "stream",
     "text": [
      "['Wow... Loved this place.', 'Crust is not good.', 'Not tasty and the texture was just nasty.', 'Stopped by during the late May bank holiday off Rick Steve recommendation and loved it.', 'The selection on the menu was great and so were the prices.', 'Now I am getting angry and I want my damn pho.', \"Honeslty it didn't taste THAT fresh.)\", 'The potatoes were like rubber and you could tell they had been made up ahead of time being kept under a warmer.', 'The fries were great too.', 'A great touch.', 'Service was very prompt.', 'Would not go back.', 'The cashier had no care what so ever on what I had to say it still ended up being wayyy overpriced.', 'I tried the Cape Cod ravoli, chicken, with cranberry...mmmm!', 'I was disgusted because I was pretty sure that was human hair.', 'I was shocked because no signs indicate cash only.', 'Highly recommended.', 'Waitress was a little slow in service.', 'This place is not worth your time, let alone Vegas.', 'did not like at all.']\n",
      "__________________________________________________\n",
      "       ahead       all     alone        am       and     angry        at  \\\n",
      "0   0.000000  0.000000  0.000000  0.000000  0.000000  0.000000  0.000000   \n",
      "1   0.000000  0.000000  0.000000  0.000000  0.000000  0.000000  0.000000   \n",
      "2   0.000000  0.000000  0.000000  0.000000  0.353553  0.000000  0.000000   \n",
      "3   0.000000  0.000000  0.000000  0.000000  0.258199  0.000000  0.000000   \n",
      "4   0.000000  0.000000  0.000000  0.000000  0.235702  0.000000  0.000000   \n",
      "5   0.000000  0.000000  0.000000  0.333333  0.333333  0.333333  0.000000   \n",
      "6   0.000000  0.000000  0.000000  0.000000  0.000000  0.000000  0.000000   \n",
      "7   0.218218  0.000000  0.000000  0.000000  0.218218  0.000000  0.000000   \n",
      "8   0.000000  0.000000  0.000000  0.000000  0.000000  0.000000  0.000000   \n",
      "9   0.000000  0.000000  0.000000  0.000000  0.000000  0.000000  0.000000   \n",
      "10  0.000000  0.000000  0.000000  0.000000  0.000000  0.000000  0.000000   \n",
      "11  0.000000  0.000000  0.000000  0.000000  0.000000  0.000000  0.000000   \n",
      "12  0.000000  0.000000  0.000000  0.000000  0.000000  0.000000  0.000000   \n",
      "13  0.000000  0.000000  0.000000  0.000000  0.000000  0.000000  0.000000   \n",
      "14  0.000000  0.000000  0.000000  0.000000  0.000000  0.000000  0.000000   \n",
      "15  0.000000  0.000000  0.000000  0.000000  0.000000  0.000000  0.000000   \n",
      "16  0.000000  0.000000  0.000000  0.000000  0.000000  0.000000  0.000000   \n",
      "17  0.000000  0.000000  0.000000  0.000000  0.000000  0.000000  0.000000   \n",
      "18  0.000000  0.000000  0.316228  0.000000  0.000000  0.000000  0.000000   \n",
      "19  0.000000  0.447214  0.000000  0.000000  0.000000  0.000000  0.447214   \n",
      "\n",
      "    back      bank   because  ...       was     wayyy      were      what  \\\n",
      "0    0.0  0.000000  0.000000  ...  0.000000  0.000000  0.000000  0.000000   \n",
      "1    0.0  0.000000  0.000000  ...  0.000000  0.000000  0.000000  0.000000   \n",
      "2    0.0  0.000000  0.000000  ...  0.353553  0.000000  0.000000  0.000000   \n",
      "3    0.0  0.258199  0.000000  ...  0.000000  0.000000  0.000000  0.000000   \n",
      "4    0.0  0.000000  0.000000  ...  0.235702  0.000000  0.235702  0.000000   \n",
      "5    0.0  0.000000  0.000000  ...  0.000000  0.000000  0.000000  0.000000   \n",
      "6    0.0  0.000000  0.000000  ...  0.000000  0.000000  0.000000  0.000000   \n",
      "7    0.0  0.000000  0.000000  ...  0.000000  0.000000  0.218218  0.000000   \n",
      "8    0.0  0.000000  0.000000  ...  0.000000  0.000000  0.447214  0.000000   \n",
      "9    0.0  0.000000  0.000000  ...  0.000000  0.000000  0.000000  0.000000   \n",
      "10   0.0  0.000000  0.000000  ...  0.500000  0.000000  0.000000  0.000000   \n",
      "11   0.5  0.000000  0.000000  ...  0.000000  0.000000  0.000000  0.000000   \n",
      "12   0.0  0.000000  0.000000  ...  0.000000  0.204124  0.000000  0.408248   \n",
      "13   0.0  0.000000  0.000000  ...  0.000000  0.000000  0.000000  0.000000   \n",
      "14   0.0  0.000000  0.250000  ...  0.750000  0.000000  0.000000  0.000000   \n",
      "15   0.0  0.000000  0.353553  ...  0.353553  0.000000  0.000000  0.000000   \n",
      "16   0.0  0.000000  0.000000  ...  0.000000  0.000000  0.000000  0.000000   \n",
      "17   0.0  0.000000  0.000000  ...  0.408248  0.000000  0.000000  0.000000   \n",
      "18   0.0  0.000000  0.000000  ...  0.000000  0.000000  0.000000  0.000000   \n",
      "19   0.0  0.000000  0.000000  ...  0.000000  0.000000  0.000000  0.000000   \n",
      "\n",
      "        with     worth  would  wow       you      your  \n",
      "0   0.000000  0.000000    0.0  0.5  0.000000  0.000000  \n",
      "1   0.000000  0.000000    0.0  0.0  0.000000  0.000000  \n",
      "2   0.000000  0.000000    0.0  0.0  0.000000  0.000000  \n",
      "3   0.000000  0.000000    0.0  0.0  0.000000  0.000000  \n",
      "4   0.000000  0.000000    0.0  0.0  0.000000  0.000000  \n",
      "5   0.000000  0.000000    0.0  0.0  0.000000  0.000000  \n",
      "6   0.000000  0.000000    0.0  0.0  0.000000  0.000000  \n",
      "7   0.000000  0.000000    0.0  0.0  0.218218  0.000000  \n",
      "8   0.000000  0.000000    0.0  0.0  0.000000  0.000000  \n",
      "9   0.000000  0.000000    0.0  0.0  0.000000  0.000000  \n",
      "10  0.000000  0.000000    0.0  0.0  0.000000  0.000000  \n",
      "11  0.000000  0.000000    0.5  0.0  0.000000  0.000000  \n",
      "12  0.000000  0.000000    0.0  0.0  0.000000  0.000000  \n",
      "13  0.333333  0.000000    0.0  0.0  0.000000  0.000000  \n",
      "14  0.000000  0.000000    0.0  0.0  0.000000  0.000000  \n",
      "15  0.000000  0.000000    0.0  0.0  0.000000  0.000000  \n",
      "16  0.000000  0.000000    0.0  0.0  0.000000  0.000000  \n",
      "17  0.000000  0.000000    0.0  0.0  0.000000  0.000000  \n",
      "18  0.000000  0.316228    0.0  0.0  0.000000  0.316228  \n",
      "19  0.000000  0.000000    0.0  0.0  0.000000  0.000000  \n",
      "\n",
      "[20 rows x 118 columns]\n"
     ]
    }
   ],
   "source": [
    "vectorizer2=TfidfVectorizer(use_idf=False)\n",
    "vectorizer2.fit(text)\n",
    "features2=vectorizer2.transform(text)\n",
    "X=pd.DataFrame(features2.toarray(),columns=vectorizer2.get_feature_names_out())\n",
    "print(text)\n",
    "print(50*'_')\n",
    "print(X)"
   ]
  },
  {
   "cell_type": "code",
   "execution_count": 92,
   "metadata": {},
   "outputs": [],
   "source": [
    "y=dataframe1['Liked']\n",
    "y=y[0:20]\n",
    "\n",
    "X_train, X_test, y_train, y_test = train_test_split(X, y, test_size = 0.20, random_state = 0)"
   ]
  },
  {
   "cell_type": "code",
   "execution_count": 97,
   "metadata": {},
   "outputs": [
    {
     "name": "stdout",
     "output_type": "stream",
     "text": [
      "[[2 1]\n",
      " [0 1]]\n"
     ]
    }
   ],
   "source": [
    "classifier = GaussianNB()\n",
    "classifier.fit(X_train, y_train)\n",
    "y_pred = classifier.predict(X_test)\n",
    "cm = confusion_matrix(y_test, y_pred)\n"
   ]
  },
  {
   "cell_type": "code",
   "execution_count": 98,
   "metadata": {},
   "outputs": [
    {
     "data": {
      "text/plain": [
       "0.75"
      ]
     },
     "execution_count": 98,
     "metadata": {},
     "output_type": "execute_result"
    }
   ],
   "source": [
    "accuracy_score(y_test, y_pred)"
   ]
  }
 ],
 "metadata": {
  "kernelspec": {
   "display_name": "Python 3",
   "language": "python",
   "name": "python3"
  },
  "language_info": {
   "codemirror_mode": {
    "name": "ipython",
    "version": 3
   },
   "file_extension": ".py",
   "mimetype": "text/x-python",
   "name": "python",
   "nbconvert_exporter": "python",
   "pygments_lexer": "ipython3",
   "version": "3.10.2"
  },
  "orig_nbformat": 4
 },
 "nbformat": 4,
 "nbformat_minor": 2
}
